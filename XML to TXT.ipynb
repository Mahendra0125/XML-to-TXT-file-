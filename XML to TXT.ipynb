{
 "cells": [
  {
   "cell_type": "code",
   "execution_count": 23,
   "metadata": {},
   "outputs": [
    {
     "name": "stdout",
     "output_type": "stream",
     "text": [
      "Requirement already satisfied: aspose-cells-python in c:\\users\\mahendravishnuprabha\\.conda\\envs\\my_python\\lib\\site-packages (23.9.0)\n",
      "Note: you may need to restart the kernel to use updated packages.\n"
     ]
    }
   ],
   "source": [
    "pip install aspose-cells-python"
   ]
  },
  {
   "cell_type": "code",
   "execution_count": 24,
   "metadata": {},
   "outputs": [],
   "source": [
    "import xml.etree.ElementTree as ET"
   ]
  },
  {
   "cell_type": "code",
   "execution_count": 25,
   "metadata": {},
   "outputs": [
    {
     "ename": "FileNotFoundError",
     "evalue": "[WinError 3] The system cannot find the path specified: 'C:\\\\Users\\\\MahendraVishnuPrabha\\\\Downloads\\\\TXT files'",
     "output_type": "error",
     "traceback": [
      "\u001b[1;31m---------------------------------------------------------------------------\u001b[0m",
      "\u001b[1;31mFileNotFoundError\u001b[0m                         Traceback (most recent call last)",
      "\u001b[1;32m~\\AppData\\Local\\Temp\\ipykernel_11448\\1175231526.py\u001b[0m in \u001b[0;36m<module>\u001b[1;34m\u001b[0m\n\u001b[0;32m      5\u001b[0m \u001b[1;31m# folder path , change according to user's wish\u001b[0m\u001b[1;33m\u001b[0m\u001b[1;33m\u001b[0m\u001b[1;33m\u001b[0m\u001b[0m\n\u001b[0;32m      6\u001b[0m \u001b[0mfolder_path\u001b[0m \u001b[1;33m=\u001b[0m \u001b[1;34m\"C:\\\\Users\\\\MahendraVishnuPrabha\\\\Downloads\\\\TXT files\"\u001b[0m\u001b[1;33m\u001b[0m\u001b[1;33m\u001b[0m\u001b[0m\n\u001b[1;32m----> 7\u001b[1;33m \u001b[0mfile_list\u001b[0m \u001b[1;33m=\u001b[0m \u001b[0mos\u001b[0m\u001b[1;33m.\u001b[0m\u001b[0mlistdir\u001b[0m\u001b[1;33m(\u001b[0m\u001b[0mfolder_path\u001b[0m\u001b[1;33m)\u001b[0m\u001b[1;33m\u001b[0m\u001b[1;33m\u001b[0m\u001b[0m\n\u001b[0m\u001b[0;32m      8\u001b[0m \u001b[1;33m\u001b[0m\u001b[0m\n\u001b[0;32m      9\u001b[0m \u001b[0mcount\u001b[0m \u001b[1;33m=\u001b[0m \u001b[1;36m1\u001b[0m\u001b[1;33m\u001b[0m\u001b[1;33m\u001b[0m\u001b[0m\n",
      "\u001b[1;31mFileNotFoundError\u001b[0m: [WinError 3] The system cannot find the path specified: 'C:\\\\Users\\\\MahendraVishnuPrabha\\\\Downloads\\\\TXT files'"
     ]
    }
   ],
   "source": [
    "# Renaming files in the folder\n",
    "\n",
    "import os\n",
    "\n",
    "# folder path , change according to user's wish\n",
    "folder_path = \"C:\\\\Users\\\\MahendraVishnuPrabha\\\\Downloads\\\\TXT files\"  \n",
    "file_list = os.listdir(folder_path)\n",
    "\n",
    "count = 1\n",
    "for filename in file_list:\n",
    "\n",
    "    if os.path.isfile(os.path.join(folder_path, filename)):\n",
    "\n",
    "        new_filename = f\"Mah-{count}.txt\" \n",
    "        new_filepath = os.path.join(folder_path, new_filename)\n",
    "        # rename the file\n",
    "        os.rename(os.path.join(folder_path, filename), new_filepath)\n",
    "        count += 1\n",
    "\n",
    "print(\"Files renamed successfully.\")"
   ]
  },
  {
   "cell_type": "code",
   "execution_count": null,
   "metadata": {},
   "outputs": [
    {
     "name": "stdout",
     "output_type": "stream",
     "text": [
      "Collecting pandas\n",
      "  Downloading pandas-1.3.5-cp37-cp37m-win_amd64.whl (10.0 MB)\n",
      "     ---------------------------------------- 10.0/10.0 MB 5.2 MB/s eta 0:00:00\n",
      "Collecting pytz>=2017.3\n",
      "  Downloading pytz-2023.3.post1-py2.py3-none-any.whl (502 kB)\n",
      "     -------------------------------------- 502.5/502.5 kB 4.5 MB/s eta 0:00:00\n",
      "Requirement already satisfied: numpy>=1.17.3 in c:\\users\\mahendravishnuprabha\\.conda\\envs\\my_python\\lib\\site-packages (from pandas) (1.21.6)\n",
      "Requirement already satisfied: python-dateutil>=2.7.3 in c:\\users\\mahendravishnuprabha\\.conda\\envs\\my_python\\lib\\site-packages (from pandas) (2.8.2)\n",
      "Requirement already satisfied: six>=1.5 in c:\\users\\mahendravishnuprabha\\.conda\\envs\\my_python\\lib\\site-packages (from python-dateutil>=2.7.3->pandas) (1.16.0)\n",
      "Installing collected packages: pytz, pandas\n",
      "Successfully installed pandas-1.3.5 pytz-2023.3.post1\n",
      "Note: you may need to restart the kernel to use updated packages.\n"
     ]
    }
   ],
   "source": [
    "pip install pandas"
   ]
  },
  {
   "cell_type": "code",
   "execution_count": null,
   "metadata": {},
   "outputs": [
    {
     "name": "stdout",
     "output_type": "stream",
     "text": [
      "DataFrame saved as Mah-1.csv in the C:\\Users\\MahendraVishnuPrabha\\Downloads\\ML to TXT file\\CSV Dataframe folder\n",
      "DataFrame saved as Mah-10.csv in the C:\\Users\\MahendraVishnuPrabha\\Downloads\\ML to TXT file\\CSV Dataframe folder\n",
      "DataFrame saved as Mah-11.csv in the C:\\Users\\MahendraVishnuPrabha\\Downloads\\ML to TXT file\\CSV Dataframe folder\n",
      "DataFrame saved as Mah-12.csv in the C:\\Users\\MahendraVishnuPrabha\\Downloads\\ML to TXT file\\CSV Dataframe folder\n",
      "DataFrame saved as Mah-13.csv in the C:\\Users\\MahendraVishnuPrabha\\Downloads\\ML to TXT file\\CSV Dataframe folder\n",
      "DataFrame saved as Mah-14.csv in the C:\\Users\\MahendraVishnuPrabha\\Downloads\\ML to TXT file\\CSV Dataframe folder\n",
      "DataFrame saved as Mah-15.csv in the C:\\Users\\MahendraVishnuPrabha\\Downloads\\ML to TXT file\\CSV Dataframe folder\n",
      "DataFrame saved as Mah-16.csv in the C:\\Users\\MahendraVishnuPrabha\\Downloads\\ML to TXT file\\CSV Dataframe folder\n",
      "DataFrame saved as Mah-17.csv in the C:\\Users\\MahendraVishnuPrabha\\Downloads\\ML to TXT file\\CSV Dataframe folder\n",
      "DataFrame saved as Mah-18.csv in the C:\\Users\\MahendraVishnuPrabha\\Downloads\\ML to TXT file\\CSV Dataframe folder\n",
      "DataFrame saved as Mah-19.csv in the C:\\Users\\MahendraVishnuPrabha\\Downloads\\ML to TXT file\\CSV Dataframe folder\n",
      "DataFrame saved as Mah-2.csv in the C:\\Users\\MahendraVishnuPrabha\\Downloads\\ML to TXT file\\CSV Dataframe folder\n",
      "DataFrame saved as Mah-20.csv in the C:\\Users\\MahendraVishnuPrabha\\Downloads\\ML to TXT file\\CSV Dataframe folder\n",
      "DataFrame saved as Mah-21.csv in the C:\\Users\\MahendraVishnuPrabha\\Downloads\\ML to TXT file\\CSV Dataframe folder\n",
      "DataFrame saved as Mah-22.csv in the C:\\Users\\MahendraVishnuPrabha\\Downloads\\ML to TXT file\\CSV Dataframe folder\n",
      "DataFrame saved as Mah-23.csv in the C:\\Users\\MahendraVishnuPrabha\\Downloads\\ML to TXT file\\CSV Dataframe folder\n",
      "DataFrame saved as Mah-24.csv in the C:\\Users\\MahendraVishnuPrabha\\Downloads\\ML to TXT file\\CSV Dataframe folder\n",
      "DataFrame saved as Mah-25.csv in the C:\\Users\\MahendraVishnuPrabha\\Downloads\\ML to TXT file\\CSV Dataframe folder\n",
      "DataFrame saved as Mah-26.csv in the C:\\Users\\MahendraVishnuPrabha\\Downloads\\ML to TXT file\\CSV Dataframe folder\n",
      "DataFrame saved as Mah-27.csv in the C:\\Users\\MahendraVishnuPrabha\\Downloads\\ML to TXT file\\CSV Dataframe folder\n",
      "DataFrame saved as Mah-28.csv in the C:\\Users\\MahendraVishnuPrabha\\Downloads\\ML to TXT file\\CSV Dataframe folder\n",
      "DataFrame saved as Mah-29.csv in the C:\\Users\\MahendraVishnuPrabha\\Downloads\\ML to TXT file\\CSV Dataframe folder\n",
      "DataFrame saved as Mah-3.csv in the C:\\Users\\MahendraVishnuPrabha\\Downloads\\ML to TXT file\\CSV Dataframe folder\n",
      "DataFrame saved as Mah-30.csv in the C:\\Users\\MahendraVishnuPrabha\\Downloads\\ML to TXT file\\CSV Dataframe folder\n",
      "DataFrame saved as Mah-31.csv in the C:\\Users\\MahendraVishnuPrabha\\Downloads\\ML to TXT file\\CSV Dataframe folder\n",
      "DataFrame saved as Mah-32.csv in the C:\\Users\\MahendraVishnuPrabha\\Downloads\\ML to TXT file\\CSV Dataframe folder\n",
      "DataFrame saved as Mah-33.csv in the C:\\Users\\MahendraVishnuPrabha\\Downloads\\ML to TXT file\\CSV Dataframe folder\n",
      "DataFrame saved as Mah-34.csv in the C:\\Users\\MahendraVishnuPrabha\\Downloads\\ML to TXT file\\CSV Dataframe folder\n",
      "DataFrame saved as Mah-35.csv in the C:\\Users\\MahendraVishnuPrabha\\Downloads\\ML to TXT file\\CSV Dataframe folder\n",
      "DataFrame saved as Mah-36.csv in the C:\\Users\\MahendraVishnuPrabha\\Downloads\\ML to TXT file\\CSV Dataframe folder\n",
      "DataFrame saved as Mah-37.csv in the C:\\Users\\MahendraVishnuPrabha\\Downloads\\ML to TXT file\\CSV Dataframe folder\n",
      "DataFrame saved as Mah-38.csv in the C:\\Users\\MahendraVishnuPrabha\\Downloads\\ML to TXT file\\CSV Dataframe folder\n",
      "DataFrame saved as Mah-39.csv in the C:\\Users\\MahendraVishnuPrabha\\Downloads\\ML to TXT file\\CSV Dataframe folder\n",
      "DataFrame saved as Mah-4.csv in the C:\\Users\\MahendraVishnuPrabha\\Downloads\\ML to TXT file\\CSV Dataframe folder\n",
      "DataFrame saved as Mah-40.csv in the C:\\Users\\MahendraVishnuPrabha\\Downloads\\ML to TXT file\\CSV Dataframe folder\n",
      "DataFrame saved as Mah-41.csv in the C:\\Users\\MahendraVishnuPrabha\\Downloads\\ML to TXT file\\CSV Dataframe folder\n",
      "DataFrame saved as Mah-42.csv in the C:\\Users\\MahendraVishnuPrabha\\Downloads\\ML to TXT file\\CSV Dataframe folder\n",
      "DataFrame saved as Mah-43.csv in the C:\\Users\\MahendraVishnuPrabha\\Downloads\\ML to TXT file\\CSV Dataframe folder\n",
      "DataFrame saved as Mah-44.csv in the C:\\Users\\MahendraVishnuPrabha\\Downloads\\ML to TXT file\\CSV Dataframe folder\n",
      "DataFrame saved as Mah-45.csv in the C:\\Users\\MahendraVishnuPrabha\\Downloads\\ML to TXT file\\CSV Dataframe folder\n",
      "DataFrame saved as Mah-46.csv in the C:\\Users\\MahendraVishnuPrabha\\Downloads\\ML to TXT file\\CSV Dataframe folder\n",
      "DataFrame saved as Mah-47.csv in the C:\\Users\\MahendraVishnuPrabha\\Downloads\\ML to TXT file\\CSV Dataframe folder\n",
      "DataFrame saved as Mah-48.csv in the C:\\Users\\MahendraVishnuPrabha\\Downloads\\ML to TXT file\\CSV Dataframe folder\n",
      "DataFrame saved as Mah-5.csv in the C:\\Users\\MahendraVishnuPrabha\\Downloads\\ML to TXT file\\CSV Dataframe folder\n",
      "DataFrame saved as Mah-6.csv in the C:\\Users\\MahendraVishnuPrabha\\Downloads\\ML to TXT file\\CSV Dataframe folder\n",
      "DataFrame saved as Mah-7.csv in the C:\\Users\\MahendraVishnuPrabha\\Downloads\\ML to TXT file\\CSV Dataframe folder\n",
      "DataFrame saved as Mah-8.csv in the C:\\Users\\MahendraVishnuPrabha\\Downloads\\ML to TXT file\\CSV Dataframe folder\n",
      "DataFrame saved as Mah-9.csv in the C:\\Users\\MahendraVishnuPrabha\\Downloads\\ML to TXT file\\CSV Dataframe folder\n",
      "All DataFrames saved as CSV files in the output folder.\n"
     ]
    }
   ],
   "source": [
    "# Converting txt file to csv dataframe\n",
    "import os\n",
    "import pandas as pd\n",
    "\n",
    "# Specify the folder containing the text files\n",
    "input_folder = \"C:\\\\Users\\\\MahendraVishnuPrabha\\\\Downloads\\\\XML to TXT file\\\\TXT files\"  # Replace with the actual folder path\n",
    "\n",
    "# Specify the folder where you want to save the CSV files\n",
    "output_folder = \"C:\\\\Users\\\\MahendraVishnuPrabha\\\\Downloads\\\\XML to TXT file\\\\CSV Dataframe\"  # Replace with the desired folder path\n",
    "\n",
    "# Create the output folder if it doesn't exist\n",
    "if not os.path.exists(output_folder):\n",
    "    os.makedirs(output_folder)\n",
    "\n",
    "# Create an empty list to store DataFrames for each file\n",
    "data_frames = []\n",
    "\n",
    "# Get the list of all files in the input folder\n",
    "file_list = os.listdir(input_folder)\n",
    "\n",
    "# Iterate through the files and read their contents\n",
    "for filename in file_list:\n",
    "\n",
    "    if filename.endswith(\".txt\"):  # Check if the file has a .txt extension\n",
    "        input_file_path = os.path.join(input_folder, filename)\n",
    "        file_data = []  # Store data from each file\n",
    "        with open(input_file_path, \"r\") as file:\n",
    "            for line in file:\n",
    "                values = line.strip().split()         \n",
    "                if len(values) == 5:\n",
    "                    class_type, xcenter, ycenter, width, height = map(float, values)\n",
    "                    # Convert class_type to an integer\n",
    "                    class_type = int(class_type)\n",
    "                    file_data.append((class_type, xcenter, ycenter, width, height))\n",
    "\n",
    "        # Create a DataFrame for this file's data\n",
    "        df = pd.DataFrame(file_data, columns=[\"class\", \"xcenter\", \"ycenter\", \"width\", \"height\"])\n",
    "\n",
    "        # Append the DataFrame to the list of data_frames along with the filename\n",
    "        data_frames.append((filename, df))\n",
    "\n",
    "# Save each DataFrame as a separate CSV file in the output folder\n",
    "for filename, df in data_frames:\n",
    "    csv_filename = os.path.splitext(filename)[0] + \".csv\"\n",
    "    csv_path = os.path.join(output_folder, csv_filename)\n",
    "    df.to_csv(csv_path, index=False)\n",
    "    print(f\"DataFrame saved as {csv_filename} in the {output_folder} folder\")\n",
    "\n",
    "print(\"All DataFrames saved as CSV files in the output folder.\")"
   ]
  },
  {
   "cell_type": "code",
   "execution_count": null,
   "metadata": {},
   "outputs": [
    {
     "name": "stdout",
     "output_type": "stream",
     "text": [
      "xmin: 75.0, xmax: 125.0, ymin: 185.0, ymax: 215.0\n"
     ]
    }
   ],
   "source": [
    "# Calculate xmin, ymin, xmax, ymax while converting csv file to xml file\n",
    "\n",
    "xcenter = 100  # Example xcenter value\n",
    "ycenter = 200  # Example ycenter value\n",
    "width = 50     # Example width value\n",
    "height = 30    # Example height value\n",
    "\n",
    "# Calculate xmin, xmax, ymin, ymax\n",
    "xmin = xcenter - (width / 2)\n",
    "xmax = xcenter + (width / 2)\n",
    "ymin = ycenter - (height / 2)\n",
    "ymax = ycenter + (height / 2)\n",
    "\n",
    "print(f'xmin: {xmin}, xmax: {xmax}, ymin: {ymin}, ymax: {ymax}')"
   ]
  },
  {
   "cell_type": "code",
   "execution_count": 22,
   "metadata": {},
   "outputs": [
    {
     "name": "stdout",
     "output_type": "stream",
     "text": [
      "Row 1: xmin=0.6245, xmax=0.8634999999999999, ymin=0.308, ymax=0.964\n"
     ]
    }
   ],
   "source": [
    "# Calculate xmin, ymin, xmax, ymax while converting csv file to xml file\n",
    "import csv\n",
    "\n",
    "# Initialize lists to store values\n",
    "xcenter_values = []\n",
    "ycenter_values = []\n",
    "width_values = []\n",
    "height_values = []\n",
    "\n",
    "# Read values from the CSV file\n",
    "with open('C:\\\\Users\\\\MahendraVishnuPrabha\\\\Downloads\\\\XML to TXT file\\\\CSV Dataframe\\\\Mah-2.csv', 'r') as csv_file:\n",
    "    csv_reader = csv.DictReader(csv_file)\n",
    "    for row in csv_reader:\n",
    "        xcenter_values.append(float(row['xcenter']))\n",
    "        ycenter_values.append(float(row['ycenter']))\n",
    "        width_values.append(float(row['width']))\n",
    "        height_values.append(float(row['height']))\n",
    "\n",
    "# Calculate xmin, xmax, ymin, ymax for each row\n",
    "for i in range(len(xcenter_values)):\n",
    "    xcenter = 0.744\n",
    "    ycenter = 0.636\n",
    "    width = 0.239\n",
    "    height = 0.656\n",
    "    \n",
    "    xmin = xcenter - (width / 2)\n",
    "    xmax = xcenter + (width / 2)\n",
    "    ymin = ycenter - (height / 2)\n",
    "    ymax = ycenter + (height / 2)\n",
    "    \n",
    "    print(f\"Row {i + 1}: xmin={xmin}, xmax={xmax}, ymin={ymin}, ymax={ymax}\")"
   ]
  },
  {
   "cell_type": "code",
   "execution_count": null,
   "metadata": {},
   "outputs": [],
   "source": []
  }
 ],
 "metadata": {
  "kernelspec": {
   "display_name": "my_python",
   "language": "python",
   "name": "python3"
  },
  "language_info": {
   "codemirror_mode": {
    "name": "ipython",
    "version": 3
   },
   "file_extension": ".py",
   "mimetype": "text/x-python",
   "name": "python",
   "nbconvert_exporter": "python",
   "pygments_lexer": "ipython3",
   "version": "3.7.16"
  },
  "orig_nbformat": 4
 },
 "nbformat": 4,
 "nbformat_minor": 2
}
